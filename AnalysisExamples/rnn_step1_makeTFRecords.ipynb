{
 "cells": [
  {
   "cell_type": "code",
   "execution_count": 1,
   "id": "e5522653",
   "metadata": {},
   "outputs": [],
   "source": [
    "#formats the competitionData into tfRecords for RNN training, including blockwise feature normalization\n",
    "baseDir = '/oak/stanford/groups/shenoy/fwillett/speechPaperRelease_final'\n",
    "\n",
    "import os\n",
    "os.makedirs(baseDir+'/derived/tfRecords', exist_ok=True)"
   ]
  },
  {
   "cell_type": "code",
   "execution_count": null,
   "id": "e88b8435",
   "metadata": {},
   "outputs": [],
   "source": [
    "from makeTFRecordsFromSession import makeTFRecordsFromCompetitionFiles \n",
    "from getSpeechSessionBlocks import getSpeechSessionBlocks\n",
    "blockLists = getSpeechSessionBlocks()\n",
    "\n",
    "for sessIdx in range(27):\n",
    "    sessionName = blockLists[sessIdx][0]\n",
    "    dataPath = baseDir + '/competitionData'\n",
    "    tfRecordFolder = baseDir + '/derived/tfRecords/'+sessionName\n",
    "    makeTFRecordsFromCompetitionFiles(sessionName, dataPath, tfRecordFolder)"
   ]
  }
 ],
 "metadata": {
  "kernelspec": {
   "display_name": "Python 3 (ipykernel)",
   "language": "python",
   "name": "python3"
  },
  "language_info": {
   "codemirror_mode": {
    "name": "ipython",
    "version": 3
   },
   "file_extension": ".py",
   "mimetype": "text/x-python",
   "name": "python",
   "nbconvert_exporter": "python",
   "pygments_lexer": "ipython3",
   "version": "3.9.0"
  }
 },
 "nbformat": 4,
 "nbformat_minor": 5
}
